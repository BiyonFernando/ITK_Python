{
 "cells": [
  {
   "cell_type": "code",
   "execution_count": 7,
   "metadata": {},
   "outputs": [],
   "source": [
    "import itk\n",
    "from itkwidgets import view\n",
    "\n",
    "input_image_path = 'BrainProtonDensitySlice.png'\n",
    "PixelType = itk.ctype('float')\n",
    "Dimension = 2\n",
    "ImageType = itk.Image[PixelType, Dimension]\n",
    "reader = itk.ImageFileReader[ImageType].New()\n",
    "reader.SetFileName(input_image_path)\n"
   ]
  }
 ],
 "metadata": {
  "kernelspec": {
   "display_name": "Python 3",
   "language": "python",
   "name": "python3"
  },
  "language_info": {
   "codemirror_mode": {
    "name": "ipython",
    "version": 3
   },
   "file_extension": ".py",
   "mimetype": "text/x-python",
   "name": "python",
   "nbconvert_exporter": "python",
   "pygments_lexer": "ipython3",
   "version": "3.8.6"
  }
 },
 "nbformat": 4,
 "nbformat_minor": 2
}
